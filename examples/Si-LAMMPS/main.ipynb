{
 "cells": [
  {
   "cell_type": "markdown",
   "metadata": {
    "collapsed": true,
    "pycharm": {
     "name": "#%% md\n"
    }
   },
   "source": [
    "# Train a Model"
   ]
  },
  {
   "cell_type": "code",
   "execution_count": 1,
   "outputs": [
    {
     "name": "stderr",
     "output_type": "stream",
     "text": [
      "C:\\Users\\fabia\\Anaconda3\\envs\\pyxtal_ff\\lib\\site-packages\\tqdm\\auto.py:22: TqdmWarning: IProgress not found. Please update jupyter and ipywidgets. See https://ipywidgets.readthedocs.io/en/stable/user_install.html\n",
      "  from .autonotebook import tqdm as notebook_tqdm\n"
     ]
    }
   ],
   "source": [
    "from pyxtal_ff import PyXtal_FF\n",
    "import os\n",
    "import urllib.request"
   ],
   "metadata": {
    "collapsed": false,
    "pycharm": {
     "name": "#%%\n"
    }
   }
  },
  {
   "cell_type": "code",
   "execution_count": 2,
   "outputs": [
    {
     "name": "stdout",
     "output_type": "stream",
     "text": [
      "Downloading the training and test data\n"
     ]
    }
   ],
   "source": [
    "TrainData = \"training.json\"\n",
    "TestData = \"test.json\"\n",
    "\n",
    "if not os.path.exists(TrainData):\n",
    "    if not os.path.exists(\"data\"):\n",
    "        os.mkdir(\"data\")\n",
    "    os.chdir(\"data\")\n",
    "    print(\"Downloading the training and test data\")\n",
    "\n",
    "    url = \"https://raw.githubusercontent.com/materialsvirtuallab/mlearn/master/data/Si/\"\n",
    "\n",
    "    urllib.request.urlretrieve(f\"{url}/{TrainData}\", TrainData)\n",
    "    urllib.request.urlretrieve(f\"{url}/{TestData}\", TestData)\n",
    "    os.chdir(\"..\")"
   ],
   "metadata": {
    "collapsed": false,
    "pycharm": {
     "name": "#%%\n"
    }
   }
  },
  {
   "cell_type": "code",
   "execution_count": 3,
   "outputs": [],
   "source": [
    "folder = \"Si-snap-zbl/\"\n",
    "descriptor = {\n",
    "    \"type\": \"SNAP\",\n",
    "    \"weights\": {\"Si\": 1.0},\n",
    "    \"Rc\": 5.0,\n",
    "    \"parameters\": {\"lmax\": 3},\n",
    "    \"base_potential\": {\"inner\": 1.5, \"outer\": 2.0},  # zbl potential\n",
    "    \"ncpu\": 1,\n",
    "}"
   ],
   "metadata": {
    "collapsed": false,
    "pycharm": {
     "name": "#%%\n"
    }
   }
  },
  {
   "cell_type": "code",
   "execution_count": 4,
   "outputs": [],
   "source": [
    "model = {\n",
    "    \"system\": [\"Si\"],\n",
    "    \"hiddenlayers\": [12, 12],\n",
    "    \"path\": folder,\n",
    "    #'restart': folder + '12-12-checkpoint.pth',\n",
    "    \"optimizer\": {\"method\": \"lbfgs\"},\n",
    "    \"force_coefficient\": 2e-2,\n",
    "    \"stress_coefficient\": 2e-3,\n",
    "    \"stress_group\": [\"Elastic\"],\n",
    "    \"alpha\": 1e-6,\n",
    "    \"epoch\": 50,  # probably more epochs are required for a good model\n",
    "}"
   ],
   "metadata": {
    "collapsed": false,
    "pycharm": {
     "name": "#%%\n"
    }
   }
  },
  {
   "cell_type": "code",
   "execution_count": 5,
   "outputs": [
    {
     "name": "stdout",
     "output_type": "stream",
     "text": [
      "\n",
      "\n",
      "\n",
      "               ______       _    _          _         _______ _______ \n",
      "              (_____ \\     \\ \\  / /        | |       (_______|_______)\n",
      "               _____) )   _ \\ \\/ / |_  ____| |        _____   _____   \n",
      "              |  ____/ | | | )  (|  _)/ _  | |       |  ___) |  ___)  \n",
      "              | |    | |_| |/ /\\ \\ |_( ( | | |_______| |     | |      \n",
      "              |_|     \\__  /_/  \\_\\___)_||_|_(_______)_|     |_|      \n",
      "                     (____/      \n",
      "\n",
      "\n",
      "        A Python package for Machine Learning Interatomic Force Field\n",
      "         Developed by Zhu's group at University of Nevada Las Vegas\n",
      "    The source code is available at https://github.com/qzhu2017/FF-project\n",
      "\n",
      "\n",
      "=========================== version 0.1.9 =============================\n",
      "\n",
      "Descriptor parameters:\n",
      "type        : SNAP\n",
      "Rc          : 5.0\n",
      "cutoff      : cosine\n",
      "lmax        : 3\n",
      "rfac        : 0.99363\n",
      "\n",
      "\n",
      "Features and precomputed descriptors exist: Si-snap-zbl/Train_db.dat\n",
      "\n",
      "Features and precomputed descriptors exist: Si-snap-zbl/Test_db.dat\n",
      "\n",
      "=========================== Training =============================\n",
      "\n",
      "No of structures   : 214\n",
      "No of descriptors  : 30\n",
      "No of parameters   : 541\n",
      "No of epochs       : 1\n",
      "Optimizer          : lbfgs\n",
      "Force_coefficient  : 0.02\n",
      "Stress_coefficient : 0.002\n",
      "Batch_size         : None\n",
      "\n",
      "\n",
      "Epoch    1: \n",
      "Initial state : \n",
      "eng_loss:  11.884549     force_loss:   0.022769   stress_loss:   0.027862  regularization:   0.000009\n",
      "    Loss:  11.935187     Energy MAE:     4.8664     Force MAE:     0.5507     Stress MAE:     2.7819\n",
      "\n",
      "Iteration    1: \n"
     ]
    },
    {
     "name": "stderr",
     "output_type": "stream",
     "text": [
      "C:\\Users\\fabia\\PycharmProjects\\PyXtal_FF\\pyxtal_ff\\models\\optimizers\\lbfgs.py:264: UserWarning: This overload of add_ is deprecated:\n",
      "\tadd_(Number alpha, Tensor other)\n",
      "Consider using one of the following signatures instead:\n",
      "\tadd_(Tensor other, *, Number alpha) (Triggered internally at  C:\\actions-runner\\_work\\pytorch\\pytorch\\builder\\windows\\pytorch\\torch\\csrc\\utils\\python_arg_parser.cpp:1055.)\n",
      "  p.data.add_(step_size, update[offset:offset + numel].view_as(p.data))\n"
     ]
    },
    {
     "name": "stdout",
     "output_type": "stream",
     "text": [
      "eng_loss:  11.128424     force_loss:   0.022831   stress_loss:   0.027699  regularization:   0.000009\n",
      "    Loss:  11.178962     Energy MAE:     4.7087     Force MAE:     0.5513     Stress MAE:     2.8105\n",
      "eng_loss:   5.059273     force_loss:   0.023757   stress_loss:   0.030391  regularization:   0.000010\n",
      "    Loss:   5.113431     Energy MAE:     3.1705     Force MAE:     0.5618     Stress MAE:     3.2708\n",
      "\n",
      "Iteration    2: \n",
      "eng_loss:  39.109918     force_loss:   0.022478   stress_loss:   0.029252  regularization:   0.000034\n",
      "    Loss:  39.161682     Energy MAE:     8.8395     Force MAE:     0.5466     Stress MAE:     2.9647\n",
      "eng_loss:   0.033963     force_loss:   0.024584   stress_loss:   0.032594  regularization:   0.000013\n",
      "    Loss:   0.091153     Energy MAE:     0.2521     Force MAE:     0.5720     Stress MAE:     3.4598\n",
      "\n",
      "Iteration    3: \n",
      "eng_loss:   0.029702     force_loss:   0.024428   stress_loss:   0.031981  regularization:   0.000013\n",
      "    Loss:   0.086124     Energy MAE:     0.2052     Force MAE:     0.5699     Stress MAE:     3.4203\n",
      "\n",
      "Iteration    4: \n",
      "eng_loss:   0.029043     force_loss:   0.024295   stress_loss:   0.031480  regularization:   0.000013\n",
      "    Loss:   0.084830     Energy MAE:     0.2077     Force MAE:     0.5681     Stress MAE:     3.3863\n",
      "\n",
      "Iteration    5: \n",
      "eng_loss:   0.026169     force_loss:   0.021598   stress_loss:   0.022574  regularization:   0.000013\n",
      "    Loss:   0.070353     Energy MAE:     0.2209     Force MAE:     0.5317     Stress MAE:     2.7390\n",
      "\n",
      "Iteration    6: \n",
      "eng_loss:   0.027251     force_loss:   0.018080   stress_loss:   0.014237  regularization:   0.000013\n",
      "    Loss:   0.059582     Energy MAE:     0.2069     Force MAE:     0.4818     Stress MAE:     1.9761\n",
      "\n",
      "Iteration    7: \n",
      "eng_loss:   0.016920     force_loss:   0.014473   stress_loss:   0.009902  regularization:   0.000014\n",
      "    Loss:   0.041309     Energy MAE:     0.1622     Force MAE:     0.4276     Stress MAE:     1.7249\n",
      "\n",
      "Iteration    8: \n",
      "eng_loss:   0.003642     force_loss:   0.009647   stress_loss:   0.007533  regularization:   0.000015\n",
      "    Loss:   0.020836     Energy MAE:     0.0776     Force MAE:     0.3539     Stress MAE:     1.8246\n",
      "\n",
      "Iteration    9: \n",
      "eng_loss:   0.000972     force_loss:   0.010459   stress_loss:   0.007036  regularization:   0.000014\n",
      "    Loss:   0.018481     Energy MAE:     0.0347     Force MAE:     0.3661     Stress MAE:     1.6285\n",
      "\n",
      "Iteration   10: \n",
      "eng_loss:   0.001053     force_loss:   0.010136   stress_loss:   0.006522  regularization:   0.000014\n",
      "    Loss:   0.017726     Energy MAE:     0.0339     Force MAE:     0.3609     Stress MAE:     1.5679\n",
      "\n",
      "Iteration   11: \n",
      "eng_loss:   0.002314     force_loss:   0.009208   stress_loss:   0.003743  regularization:   0.000014\n",
      "    Loss:   0.015279     Energy MAE:     0.0472     Force MAE:     0.3465     Stress MAE:     1.0166\n",
      "\n",
      "Iteration   12: \n",
      "eng_loss:   0.001974     force_loss:   0.009020   stress_loss:   0.003519  regularization:   0.000014\n",
      "    Loss:   0.014527     Energy MAE:     0.0454     Force MAE:     0.3429     Stress MAE:     0.9758\n",
      "\n",
      "Iteration   13: \n",
      "eng_loss:   0.001529     force_loss:   0.008359   stress_loss:   0.003389  regularization:   0.000014\n",
      "    Loss:   0.013292     Energy MAE:     0.0454     Force MAE:     0.3298     Stress MAE:     0.9806\n",
      "\n",
      "Iteration   14: \n",
      "eng_loss:   0.001171     force_loss:   0.007514   stress_loss:   0.003375  regularization:   0.000014\n",
      "    Loss:   0.012074     Energy MAE:     0.0424     Force MAE:     0.3115     Stress MAE:     1.0632\n",
      "\n",
      "Iteration   15: \n",
      "eng_loss:   0.000516     force_loss:   0.006114   stress_loss:   0.003074  regularization:   0.000015\n",
      "    Loss:   0.009719     Energy MAE:     0.0287     Force MAE:     0.2755     Stress MAE:     1.1038\n",
      "\n",
      "Iteration   16: \n",
      "eng_loss:   0.001267     force_loss:   0.005852   stress_loss:   0.001305  regularization:   0.000015\n",
      "    Loss:   0.008440     Energy MAE:     0.0470     Force MAE:     0.2639     Stress MAE:     0.5893\n",
      "eng_loss:   0.000395     force_loss:   0.005652   stress_loss:   0.001563  regularization:   0.000015\n",
      "    Loss:   0.007625     Energy MAE:     0.0224     Force MAE:     0.2569     Stress MAE:     0.6368\n",
      "\n",
      "Iteration   17: \n",
      "eng_loss:   0.000137     force_loss:   0.005555   stress_loss:   0.001345  regularization:   0.000015\n",
      "    Loss:   0.007051     Energy MAE:     0.0124     Force MAE:     0.2538     Stress MAE:     0.5921\n",
      "\n",
      "Iteration   18: \n",
      "eng_loss:   0.000117     force_loss:   0.005582   stress_loss:   0.001304  regularization:   0.000015\n",
      "    Loss:   0.007018     Energy MAE:     0.0110     Force MAE:     0.2547     Stress MAE:     0.5661\n",
      "\n",
      "Iteration   19: \n",
      "eng_loss:   0.000118     force_loss:   0.005555   stress_loss:   0.001269  regularization:   0.000015\n",
      "    Loss:   0.006957     Energy MAE:     0.0109     Force MAE:     0.2542     Stress MAE:     0.5545\n",
      "\n",
      "Iteration   20: \n",
      "eng_loss:   0.000160     force_loss:   0.005237   stress_loss:   0.001133  regularization:   0.000015\n",
      "    Loss:   0.006545     Energy MAE:     0.0130     Force MAE:     0.2466     Stress MAE:     0.5543\n",
      "\n",
      "Iteration   21: \n",
      "eng_loss:   0.000148     force_loss:   0.005116   stress_loss:   0.001024  regularization:   0.000015\n",
      "    Loss:   0.006303     Energy MAE:     0.0122     Force MAE:     0.2432     Stress MAE:     0.5595\n",
      "\n",
      "Iteration   22: \n",
      "eng_loss:   0.000254     force_loss:   0.005533   stress_loss:   0.000715  regularization:   0.000015\n",
      "    Loss:   0.006517     Energy MAE:     0.0185     Force MAE:     0.2421     Stress MAE:     0.4800\n",
      "eng_loss:   0.000151     force_loss:   0.005093   stress_loss:   0.000865  regularization:   0.000015\n",
      "    Loss:   0.006123     Energy MAE:     0.0129     Force MAE:     0.2376     Stress MAE:     0.5139\n",
      "\n",
      "Iteration   23: \n",
      "eng_loss:   0.000391     force_loss:   0.004933   stress_loss:   0.000814  regularization:   0.000015\n",
      "    Loss:   0.006152     Energy MAE:     0.0232     Force MAE:     0.2327     Stress MAE:     0.5288\n",
      "eng_loss:   0.000143     force_loss:   0.005008   stress_loss:   0.000827  regularization:   0.000015\n",
      "    Loss:   0.005993     Energy MAE:     0.0117     Force MAE:     0.2351     Stress MAE:     0.5188\n",
      "\n",
      "Iteration   24: \n",
      "eng_loss:   0.000148     force_loss:   0.004964   stress_loss:   0.000832  regularization:   0.000015\n",
      "    Loss:   0.005958     Energy MAE:     0.0120     Force MAE:     0.2340     Stress MAE:     0.5358\n",
      "\n",
      "Iteration   25: \n",
      "eng_loss:   0.000140     force_loss:   0.004944   stress_loss:   0.000833  regularization:   0.000015\n",
      "    Loss:   0.005931     Energy MAE:     0.0113     Force MAE:     0.2337     Stress MAE:     0.5388\n",
      "\n",
      "Iteration   26: \n",
      "eng_loss:   0.000144     force_loss:   0.004828   stress_loss:   0.000833  regularization:   0.000015\n",
      "    Loss:   0.005819     Energy MAE:     0.0121     Force MAE:     0.2313     Stress MAE:     0.5425\n",
      "\n",
      "Iteration   27: \n",
      "eng_loss:   0.000183     force_loss:   0.004539   stress_loss:   0.000822  regularization:   0.000015\n",
      "    Loss:   0.005560     Energy MAE:     0.0150     Force MAE:     0.2252     Stress MAE:     0.5337\n",
      "\n",
      "Iteration   28: \n",
      "eng_loss:   0.000325     force_loss:   0.003778   stress_loss:   0.000909  regularization:   0.000016\n",
      "    Loss:   0.005027     Energy MAE:     0.0205     Force MAE:     0.2072     Stress MAE:     0.5801\n",
      "\n",
      "Iteration   29: \n",
      "eng_loss:   0.000167     force_loss:   0.003849   stress_loss:   0.000555  regularization:   0.000016\n",
      "    Loss:   0.004586     Energy MAE:     0.0129     Force MAE:     0.2068     Stress MAE:     0.4288\n",
      "\n",
      "Iteration   30: \n",
      "eng_loss:   0.000261     force_loss:   0.003563   stress_loss:   0.000533  regularization:   0.000016\n",
      "    Loss:   0.004373     Energy MAE:     0.0198     Force MAE:     0.2003     Stress MAE:     0.4198\n",
      "\n",
      "Iteration   31: \n",
      "eng_loss:   0.000108     force_loss:   0.003528   stress_loss:   0.000541  regularization:   0.000016\n",
      "    Loss:   0.004193     Energy MAE:     0.0103     Force MAE:     0.2014     Stress MAE:     0.4051\n",
      "\n",
      "Iteration   32: \n",
      "eng_loss:   0.000109     force_loss:   0.003494   stress_loss:   0.000539  regularization:   0.000016\n",
      "    Loss:   0.004158     Energy MAE:     0.0108     Force MAE:     0.2003     Stress MAE:     0.3982\n",
      "\n",
      "Iteration   33: \n",
      "eng_loss:   0.000113     force_loss:   0.003459   stress_loss:   0.000547  regularization:   0.000016\n",
      "    Loss:   0.004136     Energy MAE:     0.0112     Force MAE:     0.1994     Stress MAE:     0.3972\n",
      "\n",
      "Iteration   34: \n",
      "eng_loss:   0.000258     force_loss:   0.003423   stress_loss:   0.000577  regularization:   0.000016\n",
      "    Loss:   0.004275     Energy MAE:     0.0182     Force MAE:     0.1996     Stress MAE:     0.3831\n",
      "eng_loss:   0.000119     force_loss:   0.003449   stress_loss:   0.000543  regularization:   0.000016\n",
      "    Loss:   0.004127     Energy MAE:     0.0116     Force MAE:     0.1993     Stress MAE:     0.3846\n",
      "\n",
      "Iteration   35: \n",
      "eng_loss:   0.000116     force_loss:   0.003405   stress_loss:   0.000548  regularization:   0.000016\n",
      "    Loss:   0.004085     Energy MAE:     0.0109     Force MAE:     0.1984     Stress MAE:     0.3889\n",
      "\n",
      "Iteration   36: \n",
      "eng_loss:   0.000124     force_loss:   0.003340   stress_loss:   0.000550  regularization:   0.000016\n",
      "    Loss:   0.004030     Energy MAE:     0.0099     Force MAE:     0.1972     Stress MAE:     0.3907\n",
      "\n",
      "Iteration   37: \n",
      "eng_loss:   0.000133     force_loss:   0.003293   stress_loss:   0.000563  regularization:   0.000017\n",
      "    Loss:   0.004006     Energy MAE:     0.0101     Force MAE:     0.1963     Stress MAE:     0.3959\n",
      "\n",
      "Iteration   38: \n",
      "eng_loss:   0.000133     force_loss:   0.003232   stress_loss:   0.000577  regularization:   0.000017\n",
      "    Loss:   0.003958     Energy MAE:     0.0100     Force MAE:     0.1948     Stress MAE:     0.3861\n",
      "\n",
      "Iteration   39: \n",
      "eng_loss:   0.000124     force_loss:   0.003119   stress_loss:   0.000605  regularization:   0.000018\n",
      "    Loss:   0.003866     Energy MAE:     0.0100     Force MAE:     0.1922     Stress MAE:     0.3887\n",
      "\n",
      "Iteration   40: \n",
      "eng_loss:   0.000141     force_loss:   0.002973   stress_loss:   0.000592  regularization:   0.000018\n",
      "    Loss:   0.003724     Energy MAE:     0.0112     Force MAE:     0.1885     Stress MAE:     0.3674\n",
      "\n",
      "Iteration   41: \n",
      "eng_loss:   0.000191     force_loss:   0.002812   stress_loss:   0.000560  regularization:   0.000019\n",
      "    Loss:   0.003583     Energy MAE:     0.0164     Force MAE:     0.1845     Stress MAE:     0.3305\n",
      "\n",
      "Iteration   42: \n",
      "eng_loss:   0.000173     force_loss:   0.002777   stress_loss:   0.000400  regularization:   0.000019\n",
      "    Loss:   0.003369     Energy MAE:     0.0139     Force MAE:     0.1848     Stress MAE:     0.3461\n",
      "\n",
      "Iteration   43: \n",
      "eng_loss:   0.000204     force_loss:   0.002696   stress_loss:   0.000322  regularization:   0.000019\n",
      "    Loss:   0.003241     Energy MAE:     0.0145     Force MAE:     0.1791     Stress MAE:     0.2829\n",
      "\n",
      "Iteration   44: \n",
      "eng_loss:   0.000151     force_loss:   0.002715   stress_loss:   0.000275  regularization:   0.000019\n",
      "    Loss:   0.003160     Energy MAE:     0.0124     Force MAE:     0.1794     Stress MAE:     0.2511\n",
      "\n",
      "Iteration   45: \n",
      "eng_loss:   0.000137     force_loss:   0.002721   stress_loss:   0.000270  regularization:   0.000019\n",
      "    Loss:   0.003146     Energy MAE:     0.0117     Force MAE:     0.1790     Stress MAE:     0.2431\n",
      "\n",
      "Iteration   46: \n",
      "eng_loss:   0.000139     force_loss:   0.002713   stress_loss:   0.000259  regularization:   0.000019\n",
      "    Loss:   0.003130     Energy MAE:     0.0118     Force MAE:     0.1786     Stress MAE:     0.2493\n",
      "\n",
      "Iteration   47: \n",
      "eng_loss:   0.000139     force_loss:   0.002683   stress_loss:   0.000261  regularization:   0.000019\n",
      "    Loss:   0.003103     Energy MAE:     0.0118     Force MAE:     0.1775     Stress MAE:     0.2673\n",
      "\n",
      "Iteration   48: \n",
      "eng_loss:   0.000131     force_loss:   0.002608   stress_loss:   0.000282  regularization:   0.000020\n",
      "    Loss:   0.003041     Energy MAE:     0.0114     Force MAE:     0.1736     Stress MAE:     0.2980\n",
      "\n",
      "Iteration   49: \n",
      "eng_loss:   0.000127     force_loss:   0.002524   stress_loss:   0.000283  regularization:   0.000020\n",
      "    Loss:   0.002954     Energy MAE:     0.0112     Force MAE:     0.1696     Stress MAE:     0.3079\n",
      "\n",
      "Iteration   50: \n",
      "eng_loss:   0.000122     force_loss:   0.002389   stress_loss:   0.000314  regularization:   0.000021\n",
      "    Loss:   0.002846     Energy MAE:     0.0113     Force MAE:     0.1636     Stress MAE:     0.3359\n",
      "\n",
      "The training time: 70.73 s\n",
      "The Neural Network Potential is exported to Si-snap-zbl/12-12-checkpoint.pth\n",
      "\n",
      "\n",
      "==================================================================\n",
      "\n",
      "==================== Evaluating Training Set ====================\n",
      "\n",
      "The results for energy: \n",
      "    Energy R2     0.997401\n",
      "    Energy MAE    0.011267\n",
      "    Energy RMSE   0.015593\n",
      "The energy figure is exported to: Si-snap-zbl/Energy_Train.png\n",
      "\n",
      "\n",
      "The results for force: \n",
      "    Force R2      0.894637\n",
      "    Force MAE     0.163639\n",
      "    Force RMSE    0.282214\n",
      "The force figure is exported to: Si-snap-zbl/Force_Train.png\n",
      "\n",
      "\n",
      "The results for stress: \n",
      "    Stress R2      0.989565\n",
      "    Stress MAE     0.335901\n",
      "    Stress RMSE    0.560186\n",
      "The stress figure is exported to: Si-snap-zbl/Stress_Train.png\n",
      "\n",
      "\n",
      "==================================================================\n",
      "\n",
      "================= Evaluating Testing Set =====================\n",
      "\n",
      "The results for energy: \n",
      "    Energy R2     0.996149\n",
      "    Energy MAE    0.015193\n",
      "    Energy RMSE   0.019712\n",
      "The energy figure is exported to: Si-snap-zbl/Energy_Test.png\n",
      "\n",
      "\n",
      "The results for force: \n",
      "    Force R2      0.879362\n",
      "    Force MAE     0.182706\n",
      "    Force RMSE    0.303341\n",
      "The force figure is exported to: Si-snap-zbl/Force_Test.png\n",
      "\n",
      "\n",
      "The results for stress: \n",
      "    Stress R2      0.959755\n",
      "    Stress MAE     0.503607\n",
      "    Stress RMSE    0.794700\n",
      "The stress figure is exported to: Si-snap-zbl/Stress_Test.png\n",
      "\n",
      "\n",
      "==============================================================\n",
      "\n"
     ]
    },
    {
     "data": {
      "text/plain": "((0.011267301364870539,\n  0.01559294740179334,\n  0.9974006352005448,\n  0.1636385454140876,\n  0.2822139283492548,\n  0.8946367632525876,\n  0.33590067877753516,\n  0.5601857027576925,\n  0.9895654770333453),\n (0.015192707639328906,\n  0.01971211587978288,\n  0.9961492288137568,\n  0.18270633927413915,\n  0.3033409360763685,\n  0.8793616574335962,\n  0.5036067173023484,\n  0.7946996870227262,\n  0.9597547442788876))"
     },
     "execution_count": 5,
     "metadata": {},
     "output_type": "execute_result"
    }
   ],
   "source": [
    "ff = PyXtal_FF(descriptors=descriptor, model=model)\n",
    "ff.run(\n",
    "    mode=\"train\",\n",
    "    TrainData=os.path.join(\"data\", TrainData),\n",
    "    TestData=os.path.join(\"data\", TestData),\n",
    ")"
   ],
   "metadata": {
    "collapsed": false,
    "pycharm": {
     "name": "#%%\n"
    }
   }
  },
  {
   "cell_type": "markdown",
   "source": [
    "# Run MD with ASE using this model"
   ],
   "metadata": {
    "collapsed": false,
    "pycharm": {
     "name": "#%% md\n"
    }
   }
  },
  {
   "cell_type": "code",
   "execution_count": 6,
   "outputs": [],
   "source": [
    "from time import time\n",
    "from ase.build import bulk\n",
    "from ase.md.velocitydistribution import MaxwellBoltzmannDistribution\n",
    "from ase.md.langevin import Langevin\n",
    "from ase import units\n",
    "from pyxtal_ff import PyXtal_FF\n",
    "from pyxtal_ff.calculator import PyXtalFFCalculator"
   ],
   "metadata": {
    "collapsed": false,
    "pycharm": {
     "name": "#%%\n"
    }
   }
  },
  {
   "cell_type": "code",
   "execution_count": 7,
   "outputs": [],
   "source": [
    "def printenergy(a, it, t0):\n",
    "    \"\"\"Function to print the potential, kinetic and total energy\"\"\"\n",
    "    epot = a.get_potential_energy() / len(a)\n",
    "    ekin = a.get_kinetic_energy() / len(a)\n",
    "    t_now = time()\n",
    "    print(\n",
    "        \"Step: %4d [%6.2f]: Epot = %.3feV  Ekin = %.3feV (T=%3.0fK)  \"\n",
    "        \"Etot = %.3feV \"\n",
    "        % (it, t_now - t0, epot, ekin, ekin / (1.5 * units.kB), epot + ekin)\n",
    "    )\n",
    "    return t_now"
   ],
   "metadata": {
    "collapsed": false,
    "pycharm": {
     "name": "#%%\n"
    }
   }
  },
  {
   "cell_type": "code",
   "execution_count": 8,
   "outputs": [],
   "source": [
    "file = \"Si-snap-zbl/12-12-checkpoint.pth\""
   ],
   "metadata": {
    "collapsed": false,
    "pycharm": {
     "name": "#%%\n"
    }
   }
  },
  {
   "cell_type": "code",
   "execution_count": 9,
   "outputs": [
    {
     "name": "stdout",
     "output_type": "stream",
     "text": [
      "MD simulation for  1000  atoms\n"
     ]
    },
    {
     "name": "stderr",
     "output_type": "stream",
     "text": [
      "C:\\Users\\fabia\\Anaconda3\\envs\\pyxtal_ff\\lib\\site-packages\\ase\\md\\md.py:48: FutureWarning: Specify the temperature in K using the 'temperature_K' argument\n",
      "  warnings.warn(FutureWarning(w))\n"
     ]
    },
    {
     "name": "stdout",
     "output_type": "stream",
     "text": [
      "Step:    0 [ 25.22]: Epot = -5.363eV  Ekin = 0.116eV (T=900K)  Etot = -5.247eV \n",
      "Step:    1 [ 12.95]: Epot = -5.334eV  Ekin = 0.089eV (T=687K)  Etot = -5.246eV \n",
      "Step:    2 [ 12.75]: Epot = -5.302eV  Ekin = 0.058eV (T=452K)  Etot = -5.244eV \n",
      "Step:    3 [ 12.89]: Epot = -5.281eV  Ekin = 0.039eV (T=304K)  Etot = -5.242eV \n",
      "Step:    4 [ 14.15]: Epot = -5.277eV  Ekin = 0.038eV (T=292K)  Etot = -5.239eV \n",
      "Step:    5 [ 13.36]: Epot = -5.286eV  Ekin = 0.047eV (T=366K)  Etot = -5.239eV \n",
      "Step:    6 [ 13.22]: Epot = -5.298eV  Ekin = 0.061eV (T=472K)  Etot = -5.237eV \n",
      "Step:    7 [ 13.20]: Epot = -5.306eV  Ekin = 0.070eV (T=540K)  Etot = -5.236eV \n",
      "Step:    8 [ 14.15]: Epot = -5.304eV  Ekin = 0.070eV (T=539K)  Etot = -5.235eV \n",
      "Step:    9 [ 12.96]: Epot = -5.296eV  Ekin = 0.063eV (T=486K)  Etot = -5.233eV \n"
     ]
    }
   ],
   "source": [
    "ff = PyXtal_FF(model={\"system\": [\"Si\"]}, logo=False)\n",
    "ff.run(mode=\"predict\", mliap=file)\n",
    "calc = PyXtalFFCalculator(ff=ff)\n",
    "\n",
    "si = bulk(\"Si\", \"diamond\", a=5.659, cubic=True)\n",
    "si = si * 5\n",
    "print(\"MD simulation for \", len(si), \" atoms\")\n",
    "si.set_calculator(calc)\n",
    "\n",
    "MaxwellBoltzmannDistribution(si, 1000 * units.kB)\n",
    "dyn = Langevin(si, timestep=5 * units.fs, temperature_K=1000, friction=0.02)\n",
    "# dyn = VelocityVerlet(si, 5*units.fs)  # 2 fs time step.\n",
    "t0 = time()\n",
    "for i in range(10):\n",
    "    dyn.run(steps=1)\n",
    "    t_now = printenergy(si, i, t0)\n",
    "    t0 = t_now"
   ],
   "metadata": {
    "collapsed": false,
    "pycharm": {
     "name": "#%%\n"
    }
   }
  }
 ],
 "metadata": {
  "kernelspec": {
   "display_name": "Python 3",
   "language": "python",
   "name": "python3"
  },
  "language_info": {
   "codemirror_mode": {
    "name": "ipython",
    "version": 2
   },
   "file_extension": ".py",
   "mimetype": "text/x-python",
   "name": "python",
   "nbconvert_exporter": "python",
   "pygments_lexer": "ipython2",
   "version": "2.7.6"
  }
 },
 "nbformat": 4,
 "nbformat_minor": 0
}